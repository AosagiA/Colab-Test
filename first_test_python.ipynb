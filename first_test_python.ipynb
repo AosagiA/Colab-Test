{
  "nbformat": 4,
  "nbformat_minor": 0,
  "metadata": {
    "colab": {
      "provenance": [],
      "authorship_tag": "ABX9TyOcXEEAIXc/LAVIY7xvitBv",
      "include_colab_link": true
    },
    "kernelspec": {
      "name": "python3",
      "display_name": "Python 3"
    },
    "language_info": {
      "name": "python"
    }
  },
  "cells": [
    {
      "cell_type": "markdown",
      "metadata": {
        "id": "view-in-github",
        "colab_type": "text"
      },
      "source": [
        "<a href=\"https://colab.research.google.com/github/AosagiA/Colab-Test/blob/main/first_test_python.ipynb\" target=\"_parent\"><img src=\"https://colab.research.google.com/assets/colab-badge.svg\" alt=\"Open In Colab\"/></a>"
      ]
    },
    {
      "cell_type": "code",
      "execution_count": 1,
      "metadata": {
        "colab": {
          "base_uri": "https://localhost:8080/"
        },
        "id": "_yEGBc4_wMuq",
        "outputId": "fe265568-41e7-45e2-b90e-f727a0d2acc4"
      },
      "outputs": [
        {
          "output_type": "execute_result",
          "data": {
            "text/plain": [
              "3"
            ]
          },
          "metadata": {},
          "execution_count": 1
        }
      ],
      "source": [
        "a = 1\n",
        "b = 2\n",
        "a + b"
      ]
    },
    {
      "cell_type": "code",
      "source": [
        "a ** 2 + b ** 3"
      ],
      "metadata": {
        "colab": {
          "base_uri": "https://localhost:8080/"
        },
        "id": "56wPprscwTAZ",
        "outputId": "2fe1ed0f-83a5-4949-986b-a9561a958683"
      },
      "execution_count": 2,
      "outputs": [
        {
          "output_type": "execute_result",
          "data": {
            "text/plain": [
              "9"
            ]
          },
          "metadata": {},
          "execution_count": 2
        }
      ]
    },
    {
      "cell_type": "code",
      "source": [
        "a * b"
      ],
      "metadata": {
        "colab": {
          "base_uri": "https://localhost:8080/"
        },
        "id": "4_BDuohrwYSU",
        "outputId": "c7339d91-85b6-4ce1-94aa-67e845c6a9c3"
      },
      "execution_count": 3,
      "outputs": [
        {
          "output_type": "execute_result",
          "data": {
            "text/plain": [
              "2"
            ]
          },
          "metadata": {},
          "execution_count": 3
        }
      ]
    },
    {
      "cell_type": "code",
      "source": [
        "import sample\n",
        "sample.a"
      ],
      "metadata": {
        "colab": {
          "base_uri": "https://localhost:8080/"
        },
        "id": "m15MpkCUwcjb",
        "outputId": "c71ec648-13dd-4609-b09f-9ff05241a8e6"
      },
      "execution_count": 4,
      "outputs": [
        {
          "output_type": "execute_result",
          "data": {
            "text/plain": [
              "10"
            ]
          },
          "metadata": {},
          "execution_count": 4
        }
      ]
    },
    {
      "cell_type": "code",
      "source": [
        "isinstance(a, int)"
      ],
      "metadata": {
        "colab": {
          "base_uri": "https://localhost:8080/"
        },
        "id": "pitLBVEOxC60",
        "outputId": "c9d12f72-13bc-45eb-9162-2fd78772f91a"
      },
      "execution_count": 5,
      "outputs": [
        {
          "output_type": "execute_result",
          "data": {
            "text/plain": [
              "True"
            ]
          },
          "metadata": {},
          "execution_count": 5
        }
      ]
    },
    {
      "cell_type": "code",
      "source": [
        "from sample import Foo\n",
        "f = Foo(3)\n",
        "g = Foo(4)\n",
        "\n",
        "f * g"
      ],
      "metadata": {
        "colab": {
          "base_uri": "https://localhost:8080/"
        },
        "id": "Ay0Gn2tMxOOB",
        "outputId": "53329b91-7b85-432b-be1a-e3216038d245"
      },
      "execution_count": 6,
      "outputs": [
        {
          "output_type": "execute_result",
          "data": {
            "text/plain": [
              "12"
            ]
          },
          "metadata": {},
          "execution_count": 6
        }
      ]
    },
    {
      "cell_type": "code",
      "source": [
        "help(Foo.__mul__)"
      ],
      "metadata": {
        "id": "euAKtJuLxa8U",
        "colab": {
          "base_uri": "https://localhost:8080/"
        },
        "outputId": "680fc351-43d8-4eba-f914-2e7b5c0ac2ac"
      },
      "execution_count": 7,
      "outputs": [
        {
          "output_type": "stream",
          "name": "stdout",
          "text": [
            "Help on function __mul__ in module sample:\n",
            "\n",
            "__mul__(self, obj)\n",
            "\n"
          ]
        }
      ]
    },
    {
      "cell_type": "code",
      "source": [],
      "metadata": {
        "id": "awQxdwA_xuB2"
      },
      "execution_count": null,
      "outputs": []
    }
  ]
}