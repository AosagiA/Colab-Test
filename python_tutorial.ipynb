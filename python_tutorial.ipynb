{
  "nbformat": 4,
  "nbformat_minor": 0,
  "metadata": {
    "colab": {
      "provenance": [],
      "include_colab_link": true
    },
    "kernelspec": {
      "name": "python3",
      "display_name": "Python 3"
    }
  },
  "cells": [
    {
      "cell_type": "markdown",
      "metadata": {
        "id": "view-in-github",
        "colab_type": "text"
      },
      "source": [
        "<a href=\"https://colab.research.google.com/github/AosagiA/Colab-Test/blob/main/python_tutorial.ipynb\" target=\"_parent\"><img src=\"https://colab.research.google.com/assets/colab-badge.svg\" alt=\"Open In Colab\"/></a>"
      ]
    },
    {
      "cell_type": "markdown",
      "metadata": {
        "id": "olfRIRclhP62"
      },
      "source": [
        "# Python Tutorial\n",
        "---"
      ]
    },
    {
      "cell_type": "markdown",
      "metadata": {
        "id": "xW7jaFjqjQAc"
      },
      "source": [
        "# 目次\n",
        "---\n",
        "- Google Colabの使い方\n",
        "- 変数\n",
        "- 演算（四則演算，剰余，累乗）\n",
        "- 標準入出力\n",
        "- 条件分岐\n",
        "- リスト\n",
        "- 繰り返し（for文）\n",
        "- 関数\n",
        "- モジュール\n",
        "- グラフの表示\n",
        "- 画像の表示"
      ]
    },
    {
      "cell_type": "markdown",
      "metadata": {
        "id": "V6uUcdv_kvcy"
      },
      "source": [
        "# Google Colabの使い方\n",
        "---\n",
        "\n",
        "Google Colabノートブックは複数のセルで構成されます．\n",
        "\n",
        "セルには**テキストセル**と**コードセル**の2種類があります．\n",
        "\n",
        "テキストセルにはテキストのみを，コードセルにはPythonなどのプログラムを記述することができます．\n",
        "\n",
        "コードセルでは，記述したプログラムにおける，最後に書いた値が表示されます．\n",
        "\n",
        "コードセルを実行するには，実行したいセルの左端の再生ボタンを押します．\n",
        "\n",
        "## 例題：\n",
        "- 上部ツールバーの「挿入」メニューからテキストセルとコードセルを追加してみよう．\n",
        "- テキストセルに「こんにちは」と書いてみよう．\n",
        "- コードセルに「123」と書いて実行してみよう．"
      ]
    },
    {
      "cell_type": "code",
      "metadata": {
        "colab": {
          "base_uri": "https://localhost:8080/"
        },
        "id": "jXfneosUltrm",
        "outputId": "6f59d2d1-f9c5-413a-f581-1289d9d75ff4"
      },
      "source": [
        "123"
      ],
      "execution_count": null,
      "outputs": [
        {
          "output_type": "execute_result",
          "data": {
            "text/plain": [
              "123"
            ]
          },
          "metadata": {
            "tags": []
          },
          "execution_count": 1
        }
      ]
    },
    {
      "cell_type": "markdown",
      "metadata": {
        "id": "l-Rcncohlwhm"
      },
      "source": [
        "こんにちは"
      ]
    },
    {
      "cell_type": "markdown",
      "metadata": {
        "id": "-yTCsIUNj2Fj"
      },
      "source": [
        "# 変数\n",
        "---\n",
        "\n",
        "変数は，値を保持する「箱」のようなものです．\n",
        "\n",
        "変数には，数値や文字列など，どんな値でも入れることができます．\n",
        "\n",
        "変数に値を入れることを「代入」と言います．\n",
        "\n",
        "変数に値を代入するには，「=」を使います．\n",
        "\n",
        "変数名には，アルファベット，数字，アンダーバーの組み合わせが使えますが，数字から始まる変数名は無効です．\n",
        "\n",
        "\n",
        "## 例題\n",
        "- 変数「a」に123を代入してみよう．\n",
        "- 変数「sample_string」に文字列\"abc\"を代入してみよう（ダブルクオーテーション「\"」で囲んだものは文字列になります）．"
      ]
    },
    {
      "cell_type": "code",
      "metadata": {
        "id": "SKlnifGqmabq"
      },
      "source": [
        "a = 123"
      ],
      "execution_count": null,
      "outputs": []
    },
    {
      "cell_type": "code",
      "metadata": {
        "colab": {
          "base_uri": "https://localhost:8080/"
        },
        "id": "97P-a-61mh2N",
        "outputId": "3a16cc4f-6baa-4b83-9911-234685d8d3da"
      },
      "source": [
        "a"
      ],
      "execution_count": null,
      "outputs": [
        {
          "output_type": "execute_result",
          "data": {
            "text/plain": [
              "123"
            ]
          },
          "metadata": {
            "tags": []
          },
          "execution_count": 3
        }
      ]
    },
    {
      "cell_type": "code",
      "metadata": {
        "id": "v2FyfoUGmmIU"
      },
      "source": [
        "sample_string = \"abc\""
      ],
      "execution_count": null,
      "outputs": []
    },
    {
      "cell_type": "code",
      "metadata": {
        "colab": {
          "base_uri": "https://localhost:8080/",
          "height": 35
        },
        "id": "uTfhc51tmsva",
        "outputId": "cba058f3-a469-4794-b277-a32e356e29f4"
      },
      "source": [
        "sample_string"
      ],
      "execution_count": null,
      "outputs": [
        {
          "output_type": "execute_result",
          "data": {
            "application/vnd.google.colaboratory.intrinsic+json": {
              "type": "string"
            },
            "text/plain": [
              "'abc'"
            ]
          },
          "metadata": {
            "tags": []
          },
          "execution_count": 5
        }
      ]
    },
    {
      "cell_type": "markdown",
      "metadata": {
        "id": "ighnSbq_zirs"
      },
      "source": [
        "# 演算\n",
        "---\n",
        "\n",
        "演算には，以下のように様々な種類があります．\n",
        "- +：足し算\n",
        "- \\- ：引き算\n",
        "- \\*：掛け算\n",
        "- /：割り算の商\n",
        "- %：割り算の剰余\n",
        "- \\*\\*：累乗\n",
        "\n",
        "## 例題\n",
        "- 「12 + 3」を実行してみよう\n",
        "- 「4 × 5」を実行してみよう\n",
        "- 「12 / 5」を実行してみよう\n",
        "- 「12 / 5.0」を実行してみよう\n",
        "- 「12 % 5」を実行してみよう\n",
        "- 「5 ** 3」を実行してみよう\n",
        "- 変数「a」に14を，変数「b」に9を代入し，「a + b」を実行しよう\n",
        "- 「\"hello\" + sample_string」を実行してみよう\n",
        "- 「a + sample_string」を実行してみよう"
      ]
    },
    {
      "cell_type": "code",
      "metadata": {
        "colab": {
          "base_uri": "https://localhost:8080/"
        },
        "id": "flH4oCvkm2ya",
        "outputId": "11239638-4a5d-4867-c878-fc0e69152133"
      },
      "source": [
        "12 + 3"
      ],
      "execution_count": null,
      "outputs": [
        {
          "output_type": "execute_result",
          "data": {
            "text/plain": [
              "15"
            ]
          },
          "metadata": {
            "tags": []
          },
          "execution_count": 6
        }
      ]
    },
    {
      "cell_type": "code",
      "metadata": {
        "colab": {
          "base_uri": "https://localhost:8080/"
        },
        "id": "mEFcIqjEm6gx",
        "outputId": "eab58572-6e21-4161-9827-e88536bdab51"
      },
      "source": [
        "4 * 5"
      ],
      "execution_count": null,
      "outputs": [
        {
          "output_type": "execute_result",
          "data": {
            "text/plain": [
              "20"
            ]
          },
          "metadata": {
            "tags": []
          },
          "execution_count": 7
        }
      ]
    },
    {
      "cell_type": "code",
      "metadata": {
        "colab": {
          "base_uri": "https://localhost:8080/"
        },
        "id": "8DAsyj5CnAUO",
        "outputId": "60446b01-9378-4e0e-8c05-89ccb9a54330"
      },
      "source": [
        "a = 14\n",
        "b = 9\n",
        "a + b"
      ],
      "execution_count": null,
      "outputs": [
        {
          "output_type": "execute_result",
          "data": {
            "text/plain": [
              "23"
            ]
          },
          "metadata": {
            "tags": []
          },
          "execution_count": 8
        }
      ]
    },
    {
      "cell_type": "code",
      "metadata": {
        "colab": {
          "base_uri": "https://localhost:8080/",
          "height": 35
        },
        "id": "TA8WCUp_nJ2W",
        "outputId": "9225924b-c43b-4643-d61e-9d80045a38a2"
      },
      "source": [
        "\"hello\" + sample_string"
      ],
      "execution_count": null,
      "outputs": [
        {
          "output_type": "execute_result",
          "data": {
            "application/vnd.google.colaboratory.intrinsic+json": {
              "type": "string"
            },
            "text/plain": [
              "'helloabc'"
            ]
          },
          "metadata": {
            "tags": []
          },
          "execution_count": 9
        }
      ]
    },
    {
      "cell_type": "markdown",
      "metadata": {
        "id": "fSVyzjZinLSm"
      },
      "source": [
        "ここで，プログラミングにおける「=」と数学における「=」の違いを確認します．\n",
        "プログラミングでは，以下の文が許されます．\n",
        "\n",
        "```\n",
        "a = a + 1\n",
        "```\n",
        "\n",
        "実際に確認します．"
      ]
    },
    {
      "cell_type": "code",
      "metadata": {
        "id": "F6vyJE3ln1_a",
        "colab": {
          "base_uri": "https://localhost:8080/"
        },
        "outputId": "b5d6f971-5dba-45b3-f068-a734d6d4a2ad"
      },
      "source": [
        "a = 5\n",
        "a = a + 1\n",
        "a"
      ],
      "execution_count": null,
      "outputs": [
        {
          "output_type": "execute_result",
          "data": {
            "text/plain": [
              "6"
            ]
          },
          "metadata": {
            "tags": []
          },
          "execution_count": 10
        }
      ]
    },
    {
      "cell_type": "markdown",
      "metadata": {
        "id": "8G3C7H-QoHkT"
      },
      "source": [
        "何が起こったか説明します．\n",
        "\n",
        "代入を行う文は，以下のステップで実行されます．\n",
        "1. 右辺が実行されます．\n",
        "2. 右辺を実行した結果を左辺の変数に代入します．\n",
        "\n",
        "つまり，上のコードは次のように実行されます．\n",
        "1. 右辺が実行されます．この時，まだ右辺は代入前なので，aの値は5であり，a + 1を実行すると6になります．\n",
        "2. 6がaに代入されます．\n",
        "\n",
        "このように，プログラムそのものがどのように実行されるかの取り決めを「言語仕様」といいます．"
      ]
    },
    {
      "cell_type": "markdown",
      "metadata": {
        "id": "0msmLY8uVMkk"
      },
      "source": [
        "# 標準入出力\n",
        "---\n",
        "\n",
        "標準入力とは，キーボードからの入力のことで，標準出力とは，ディスプレイへの出力のことです．\n",
        "\n",
        "キーボードからの入力を文字列として受け取って変数sに保存するには，`s = input()`とします．\n",
        "\n",
        "文字列\"hello world\"をディスプレイに表示するには，`print(\"hello world\"`)とします．\n",
        "\n",
        "## 例題\n",
        "- キーボードからの入力を変数 a に保存してみよう\n",
        "- 変数 a を print を使って表示しよう\n",
        "- 消費税抜き価格を入力したら消費税込の価格を表示する消費税計算機能を作ってみよう（ヒント：数字だけからなる文字列 s を数値に変換するには， `int(s)` とします）"
      ]
    },
    {
      "cell_type": "code",
      "metadata": {
        "colab": {
          "base_uri": "https://localhost:8080/"
        },
        "id": "viRyj-nxn62G",
        "outputId": "3e087e37-bc28-4cda-8e21-66b3fbc4d8ef"
      },
      "source": [
        "a = input()"
      ],
      "execution_count": null,
      "outputs": [
        {
          "output_type": "stream",
          "text": [
            "hello\n"
          ],
          "name": "stdout"
        }
      ]
    },
    {
      "cell_type": "code",
      "metadata": {
        "colab": {
          "base_uri": "https://localhost:8080/",
          "height": 35
        },
        "id": "AA9L1Xg2oCbD",
        "outputId": "8a76977b-31dd-4766-a06e-04bed048481f"
      },
      "source": [
        "a"
      ],
      "execution_count": null,
      "outputs": [
        {
          "output_type": "execute_result",
          "data": {
            "application/vnd.google.colaboratory.intrinsic+json": {
              "type": "string"
            },
            "text/plain": [
              "'hello'"
            ]
          },
          "metadata": {
            "tags": []
          },
          "execution_count": 12
        }
      ]
    },
    {
      "cell_type": "code",
      "metadata": {
        "colab": {
          "base_uri": "https://localhost:8080/"
        },
        "id": "gjI2gDzQoFL5",
        "outputId": "364408a9-6bac-4175-e725-c7291d19bb78"
      },
      "source": [
        "print(a)"
      ],
      "execution_count": null,
      "outputs": [
        {
          "output_type": "stream",
          "text": [
            "hello\n"
          ],
          "name": "stdout"
        }
      ]
    },
    {
      "cell_type": "code",
      "metadata": {
        "colab": {
          "base_uri": "https://localhost:8080/"
        },
        "id": "s6AVnPJ7oW8X",
        "outputId": "d1c82403-3a86-4415-8e27-e939dca3d69b"
      },
      "source": [
        "a = input()\n",
        "a = int(a)\n",
        "b = a * 1.1\n",
        "print(b)"
      ],
      "execution_count": null,
      "outputs": [
        {
          "output_type": "stream",
          "text": [
            "120\n",
            "132.0\n"
          ],
          "name": "stdout"
        }
      ]
    },
    {
      "cell_type": "markdown",
      "metadata": {
        "id": "gOleysFXW9Rq"
      },
      "source": [
        "# 条件分岐\n",
        "---\n",
        "\n",
        "値に応じてプログラムの処理を変更したいときは，if 文を使って条件分岐を行います．\n",
        "\n",
        "## if文の書式\n",
        "```\n",
        "if 条件式A:\n",
        "  条件式Aが真であるときに実行したい処理\n",
        "elif 条件式B:\n",
        "  条件式Aが偽で，条件式Bが真であるときに実行したい処理\n",
        "elif 条件式C:\n",
        "  ...\n",
        "else:\n",
        "  全ての条件が偽であるときに実行したい処理\n",
        "```\n",
        "\n",
        "if文の中で実行したい処理には，インデント（字下げ）することに注意しましょう．\n",
        "インデントするには，tabキーを押します．\n",
        "\n",
        "## if文で使える条件式\n",
        "- ==（等号）：右辺と左辺が等しいときのみ真\n",
        "- !=（ノットイコール）：右辺と左辺が等しくないときのみ真\n",
        "- <（小なり）：左辺が右辺より小さいとき真\n",
        "- <=（小なりイコール）：左辺が右辺以下であるとき真\n",
        "- \\>（大なり）：左辺が右辺より大きいとき真\n",
        "- \\>=（大なりイコール）：左辺が右辺以上であるとき真\n",
        "\n",
        "\n",
        "少しややこしいので，サンプルコードを示します．\n",
        "\n",
        "以下のサンプルコードは，変数 score の値が80点以上なら A 60点以上なら B 60点未満なら C を出力するプログラムです．\n",
        "\n",
        "score = 77点として実行すると，Bだけが出力されていることがわかります．"
      ]
    },
    {
      "cell_type": "code",
      "metadata": {
        "id": "IKSSr0QDaz3z",
        "colab": {
          "base_uri": "https://localhost:8080/"
        },
        "outputId": "48856af8-7e7a-4580-d8c0-4b3af4f8c488"
      },
      "source": [
        "score = 77\n",
        "\n",
        "if score >= 80:\n",
        "  print(\"A\")\n",
        "elif score >= 60:\n",
        "  print(\"B\")\n",
        "else:\n",
        "  print(\"C\")"
      ],
      "execution_count": null,
      "outputs": [
        {
          "output_type": "stream",
          "text": [
            "B\n"
          ],
          "name": "stdout"
        }
      ]
    },
    {
      "cell_type": "markdown",
      "metadata": {
        "id": "QJxMXkWJfXoM"
      },
      "source": [
        "## 例題\n",
        "- 上のサンプルコードを改良して，score が90点以上なら S を出力するようにしてみよう．\n",
        "- 上の問題のコードを改良して，score が100点なら文字列\"Perfect\"を出力するようにしてみよう．"
      ]
    },
    {
      "cell_type": "code",
      "metadata": {
        "colab": {
          "base_uri": "https://localhost:8080/"
        },
        "id": "VIq5n2_TpikE",
        "outputId": "87886ca6-f305-4cbf-dd11-dc3397779295"
      },
      "source": [
        "score = 95\n",
        "\n",
        "if score >= 90:\n",
        "  print(\"S\")\n",
        "elif score >= 80:\n",
        "  print(\"A\")\n",
        "elif score >= 60:\n",
        "  print(\"B\")\n",
        "else:\n",
        "  print(\"C\")"
      ],
      "execution_count": null,
      "outputs": [
        {
          "output_type": "stream",
          "text": [
            "S\n"
          ],
          "name": "stdout"
        }
      ]
    },
    {
      "cell_type": "markdown",
      "metadata": {
        "id": "hd3UnBVglGHP"
      },
      "source": [
        "# リスト\n",
        "---\n",
        "\n",
        "リストは，数値や文字列，様々な値を複数持つことができるデータ構造です．\n",
        "\n",
        "例えば，リストは以下のように表されます．\n",
        "```\n",
        "even_list = [2, 4, 6, 8, 10]\n",
        "string_list = [\"abc\", \"def\", \"hello\", \"world\"]\n",
        "```\n",
        "\n",
        "リストの中のn番目の要素にアクセスするには，リストを格納した変数の後ろに `[n]` を付けて表します．ここで，要素番号は0から始まることに注意してください．\n",
        "```\n",
        "even_list[3]  # 8が出力される\n",
        "string_list[0]  # \"abc\"が出力される\n",
        "```\n",
        "\n",
        "リストのリストを定義することもできます．「リストの入れ子」「多次元リスト」とも呼びます．\n",
        "```\n",
        "list_of_list = [[1, 2, 3], [2, 3, 4], [5, 6, 7, 8]]\n",
        "list_of_list[0]  # [1, 2, 3]が出力される\n",
        "list_of_list[1][2]  # 4が出力される\n",
        "```\n",
        "\n",
        "## 例題\n",
        "- 1から11までの奇数のリストを変数 `odd_list` に代入してみよう．\n",
        "- `odd_list` の5にアクセスしてみよう．\n",
        "- 文字列\"abc\"，\"def\"，\"hello\"のリストを作ってみよう"
      ]
    },
    {
      "cell_type": "code",
      "metadata": {
        "id": "8eFPThtHqPMU"
      },
      "source": [
        "odd_list = [1, 3, 5, 7, 9, 11]"
      ],
      "execution_count": null,
      "outputs": []
    },
    {
      "cell_type": "code",
      "metadata": {
        "colab": {
          "base_uri": "https://localhost:8080/"
        },
        "id": "KOHAivsrqXrR",
        "outputId": "d5a248d3-e0df-4b7e-b0f3-533de94e5b2c"
      },
      "source": [
        "odd_list[2]"
      ],
      "execution_count": null,
      "outputs": [
        {
          "output_type": "execute_result",
          "data": {
            "text/plain": [
              "5"
            ]
          },
          "metadata": {
            "tags": []
          },
          "execution_count": 20
        }
      ]
    },
    {
      "cell_type": "code",
      "metadata": {
        "id": "gkpKdwKcqiKv"
      },
      "source": [
        "str_list = [\"abc\", \"def\", \"hello\"]"
      ],
      "execution_count": null,
      "outputs": []
    },
    {
      "cell_type": "code",
      "metadata": {
        "colab": {
          "base_uri": "https://localhost:8080/"
        },
        "id": "CYOD4w1-ql6r",
        "outputId": "04ac1879-a71a-4cfc-e2f6-97a3be98130e"
      },
      "source": [
        "str_list"
      ],
      "execution_count": null,
      "outputs": [
        {
          "output_type": "execute_result",
          "data": {
            "text/plain": [
              "['abc', 'def', 'hello']"
            ]
          },
          "metadata": {
            "tags": []
          },
          "execution_count": 22
        }
      ]
    },
    {
      "cell_type": "markdown",
      "metadata": {
        "id": "8c3y7Ex5kz3L"
      },
      "source": [
        "# 繰り返し（for文）\n",
        "---\n",
        "\n",
        "for文の書式を以下に示します．\n",
        "\n",
        "```\n",
        "for ループ変数 in リスト:\n",
        "  繰り返したい処理\n",
        "```\n",
        "\n",
        "ループ変数には，リストの要素が頭から順番に代入されていきます．\n",
        "そしてそのたびに繰り返したい処理が繰り返されます．\n",
        "\n",
        "for文の中で繰り返したい処理には，インデント（字下げ）することに注意しましょう．\n",
        "\n",
        "for文は少し難しいので，例を見ていきましょう．5回繰り返して \"hello world\" と表示する例を示します．"
      ]
    },
    {
      "cell_type": "code",
      "metadata": {
        "id": "jvJiNqLWW4ZF",
        "colab": {
          "base_uri": "https://localhost:8080/"
        },
        "outputId": "ebc5aa40-0a13-4d9d-bb0d-143867c76df8"
      },
      "source": [
        "list_5 = [0, 1, 2, 3, 4]\n",
        "for i in list_5:\n",
        "  print(\"hello world\")"
      ],
      "execution_count": null,
      "outputs": [
        {
          "output_type": "stream",
          "text": [
            "hello world\n",
            "hello world\n",
            "hello world\n",
            "hello world\n",
            "hello world\n"
          ],
          "name": "stdout"
        }
      ]
    },
    {
      "cell_type": "markdown",
      "metadata": {
        "id": "DVO-QHgtpbNi"
      },
      "source": [
        "これは，以下のprint文と本質的に同じです．"
      ]
    },
    {
      "cell_type": "code",
      "metadata": {
        "id": "Qolq5qS7pVrc",
        "colab": {
          "base_uri": "https://localhost:8080/",
          "height": 109
        },
        "outputId": "84f31939-cc79-4bed-8f9d-46c6dcf043d1"
      },
      "source": [
        "print(\"hello world\")\n",
        "print(\"hello world\")\n",
        "print(\"hello world\")\n",
        "print(\"hello world\")\n",
        "print(\"hello world\")"
      ],
      "execution_count": null,
      "outputs": [
        {
          "output_type": "stream",
          "text": [
            "hello world\n",
            "hello world\n",
            "hello world\n",
            "hello world\n",
            "hello world\n"
          ],
          "name": "stdout"
        }
      ]
    },
    {
      "cell_type": "markdown",
      "metadata": {
        "id": "SFQhsoDsp7BZ"
      },
      "source": [
        "5回ならこんな風にprint文を5回書いてもそれほど苦ではないですが，100回や1000回だと厳しいですね．そんな時にforが役に立ちます．\n",
        "\n",
        "次は，ループ変数について見ていきましょう．以下に例を示します．"
      ]
    },
    {
      "cell_type": "code",
      "metadata": {
        "id": "rFcYUoF2p6Xv",
        "colab": {
          "base_uri": "https://localhost:8080/"
        },
        "outputId": "ff05a1e3-b3b5-4f8c-f615-8c53e896f36b"
      },
      "source": [
        "list_5 = [0, 1, 2, 3, 4]\n",
        "for i in list_5:\n",
        "  print(i)"
      ],
      "execution_count": null,
      "outputs": [
        {
          "output_type": "stream",
          "text": [
            "0\n",
            "1\n",
            "2\n",
            "3\n",
            "4\n"
          ],
          "name": "stdout"
        }
      ]
    },
    {
      "cell_type": "markdown",
      "metadata": {
        "id": "EMd-ZRj6qwaC"
      },
      "source": [
        "最初の説明通り，in の後に指定したリストの要素が順番にループ変数 i に代入されていることがわかりますね．\n",
        "\n",
        "ここで，便利なキーワード `range` を紹介します．`range` は，ある正の整数を指定すると，0からその数字 - 1までのリストを作ってくれます．\n",
        "\n",
        "以下に例を示します．"
      ]
    },
    {
      "cell_type": "code",
      "metadata": {
        "id": "IanVUhr0qn7E",
        "colab": {
          "base_uri": "https://localhost:8080/"
        },
        "outputId": "c3bfcd3b-1a37-4944-ffe7-b83c8c9f9744"
      },
      "source": [
        "for i in range(10):\n",
        "  print(i)"
      ],
      "execution_count": null,
      "outputs": [
        {
          "output_type": "stream",
          "text": [
            "0\n",
            "1\n",
            "2\n",
            "3\n",
            "4\n",
            "5\n",
            "6\n",
            "7\n",
            "8\n",
            "9\n"
          ],
          "name": "stdout"
        }
      ]
    },
    {
      "cell_type": "markdown",
      "metadata": {
        "id": "LBU52muarZjj"
      },
      "source": [
        "これで，5回同じ処理を繰り返す時や，値を1ずつ増やしていく繰り返し処理が簡潔に書けます．\n",
        "\n",
        "次は，さらに発展的な例を示します．0から9までの数字の中で，偶数だけを表示するプログラムを作ります．\n",
        "\n",
        "偶数かどうか判断するには，2で割った余りが0であるかどうか調べます．"
      ]
    },
    {
      "cell_type": "code",
      "metadata": {
        "id": "3ZYc6A9crYpD",
        "colab": {
          "base_uri": "https://localhost:8080/"
        },
        "outputId": "5c96414c-241e-49ae-f905-2a43fbc36c6c"
      },
      "source": [
        "for i in range(10):\n",
        "  if i % 2 == 0:\n",
        "    print(i)"
      ],
      "execution_count": null,
      "outputs": [
        {
          "output_type": "stream",
          "text": [
            "0\n",
            "2\n",
            "4\n",
            "6\n",
            "8\n"
          ],
          "name": "stdout"
        }
      ]
    },
    {
      "cell_type": "markdown",
      "metadata": {
        "id": "SehOzuNnsiQ9"
      },
      "source": [
        "## 例題\n",
        "- for文とrangeを使って，20回 \"hello world\" を表示してみよう．\n",
        "- for文を使って，0から20までの数字を表示してみよう．\n",
        "- for文を使って，0から20までの数字の中で，奇数だけを表示してみよう．"
      ]
    },
    {
      "cell_type": "code",
      "metadata": {
        "colab": {
          "base_uri": "https://localhost:8080/"
        },
        "id": "DEQJcX-RsPFW",
        "outputId": "45d8b510-8560-4afb-c2bd-99c15f8d8c62"
      },
      "source": [
        "for i in range(21):\n",
        "  if i % 2 == 1:\n",
        "    print(i)"
      ],
      "execution_count": null,
      "outputs": [
        {
          "output_type": "stream",
          "text": [
            "1\n",
            "3\n",
            "5\n",
            "7\n",
            "9\n",
            "11\n",
            "13\n",
            "15\n",
            "17\n",
            "19\n"
          ],
          "name": "stdout"
        }
      ]
    },
    {
      "cell_type": "markdown",
      "metadata": {
        "id": "l7Wc4pwSUdoZ"
      },
      "source": [
        "## 関数\n",
        "---\n",
        "\n",
        "プログラミングでは，まとまった同じ処理を複数行うことがよくあります．\n",
        "\n",
        "そのとき，それらの処理を全部書いているとプログラムの行数が増えて読みにくくなってしまいます．\n",
        "\n",
        "そこで，「処理のまとまり」を表現する書式が生まれました．それが関数です．\n",
        "\n",
        "関数を定義する書式を以下に示します．\n",
        "```\n",
        "def 関数名():\n",
        "  処理\n",
        "```\n",
        "\n",
        "関数を実行する書式を以下に示します．\n",
        "```\n",
        "関数名()\n",
        "```\n",
        "\n",
        "簡単な関数の例として，文字列\"hello world\"を3回表示する関数を使って実行してみます．"
      ]
    },
    {
      "cell_type": "code",
      "metadata": {
        "id": "s35z5y0JXSpz"
      },
      "source": [
        "# 関数宣言\n",
        "def say_hello_5_times():\n",
        "  print(\"hello world\")\n",
        "  print(\"hello world\")\n",
        "  print(\"hello world\")\n",
        "  print(\"hello world\")\n",
        "  print(\"hello world\")"
      ],
      "execution_count": null,
      "outputs": []
    },
    {
      "cell_type": "code",
      "metadata": {
        "id": "TsR-_rpeXh6S",
        "colab": {
          "base_uri": "https://localhost:8080/",
          "height": 109
        },
        "outputId": "559432da-535d-4ac9-c944-95fa251039bb"
      },
      "source": [
        "# 関数実行\n",
        "say_hello_5_times()"
      ],
      "execution_count": null,
      "outputs": [
        {
          "output_type": "stream",
          "text": [
            "hello world\n",
            "hello world\n",
            "hello world\n",
            "hello world\n",
            "hello world\n"
          ],
          "name": "stdout"
        }
      ]
    },
    {
      "cell_type": "markdown",
      "metadata": {
        "id": "bCjjzZmOXhae"
      },
      "source": []
    },
    {
      "cell_type": "markdown",
      "metadata": {
        "id": "M8AHQ0U7XRxX"
      },
      "source": [
        "次に，引数付きの関数を定義する書式を以下に示します．\n",
        "```\n",
        "def 関数名(引数名):\n",
        "  処理\n",
        "```\n",
        "\n",
        "関数を実行する書式を以下に示します．\n",
        "```\n",
        "関数名(引数)\n",
        "```\n",
        "\n",
        "引数とは，関数の内部で行う処理に対して渡せる変数のことです．つまり，引数に応じて，関数内部で行う処理を柔軟に変更することができます．\n",
        "\n",
        "次に，引数nを受け取って，n回\"hello world\"を表示する関数を定義します．\n",
        "そのあと，引数に5を渡して5回\"hello world\"を表示しましょう．"
      ]
    },
    {
      "cell_type": "code",
      "metadata": {
        "id": "YKGpi5tdYL-F",
        "colab": {
          "base_uri": "https://localhost:8080/",
          "height": 102
        },
        "outputId": "aea8c953-4a5e-45c6-ea52-729e15dc0154"
      },
      "source": [
        "def hello_world_n_times(n):\n",
        "  for i in range(n):\n",
        "    print(\"hello world\")\n",
        "\n",
        "hello_world_n_times(5)"
      ],
      "execution_count": null,
      "outputs": [
        {
          "output_type": "stream",
          "text": [
            "hello world\n",
            "hello world\n",
            "hello world\n",
            "hello world\n",
            "hello world\n"
          ],
          "name": "stdout"
        }
      ]
    },
    {
      "cell_type": "markdown",
      "metadata": {
        "id": "C54QSvwsW9E9"
      },
      "source": [
        "次に，引数と戻り値付きの関数を定義する書式を以下に示します．\n",
        "```\n",
        "def 関数名(引数名):\n",
        "  処理\n",
        "  return 戻り値\n",
        "```\n",
        "\n",
        "関数を実行して，戻り値を変数xに代入する書式を以下に示します．\n",
        "```\n",
        "x = 関数名(引数)\n",
        "```\n",
        "\n",
        "戻り値とは，関数によって生成され，関数の外のプログラムに渡す値のことです．\n",
        "\n",
        "それでは，足し算を行う関数addを定義して実行してみます．\n",
        "\n",
        "\n"
      ]
    },
    {
      "cell_type": "code",
      "metadata": {
        "id": "JjPeQKE6c0mO",
        "colab": {
          "base_uri": "https://localhost:8080/",
          "height": 35
        },
        "outputId": "777c1d90-3eac-4e17-9da8-8b19e1dd508a"
      },
      "source": [
        "def add(a, b):\n",
        "  return a + b\n",
        "\n",
        "add(4, 8)"
      ],
      "execution_count": null,
      "outputs": [
        {
          "output_type": "execute_result",
          "data": {
            "text/plain": [
              "12"
            ]
          },
          "metadata": {
            "tags": []
          },
          "execution_count": 32
        }
      ]
    },
    {
      "cell_type": "markdown",
      "metadata": {
        "id": "0d-sUsY5jqaK"
      },
      "source": [
        "## 例題\n",
        "- 引数aを受け取って，print文を使ってaの値を表示する関数print_aを実装して実行してみよう\n",
        "- 引数aを受け取って，a+1を返す関数incrementを実装して実行してみよう"
      ]
    },
    {
      "cell_type": "markdown",
      "metadata": {
        "id": "W7n5RE-ifTfu"
      },
      "source": [
        "# モジュール\n",
        "---\n",
        "\n",
        "あらかじめ定義された関数群をモジュールといいます．\n",
        "\n",
        "科学技術計算や機械学習，アプリケーション開発では，同じ計算を複数回行うことがあるので，偉大な先人達がすでに有用な関数を実装してくれています．\n",
        "\n",
        "\n",
        "\n",
        "モジュールを使うには，import文を使います．\n",
        "\n",
        "import文を使うことで，そのモジュールが，今自分の書いているプログラムの中で定義されているように使用することができます．\n",
        "\n",
        "```\n",
        "import モジュール名 as モジュールを代入する変数名\n",
        "```\n",
        "\n",
        "それでは，多くの数学関数や線形代数の演算が実装されたNumpyを使ってみましょう．\n",
        "\n",
        "numpyという名前は長いのでnpと省略した変数にモジュールを代入し，Numpyの中で定義されたsin関数と常用対数関数（底が10の対数関数）を使ってみましょう．"
      ]
    },
    {
      "cell_type": "code",
      "metadata": {
        "id": "tfLjI5wpgkEX",
        "colab": {
          "base_uri": "https://localhost:8080/"
        },
        "outputId": "e07c1d5b-b2b0-4c54-daca-2490e4f72ffb"
      },
      "source": [
        "import numpy as np\n",
        "\n",
        "pi = 3.1415926535\n",
        "np.sin(pi / 2)"
      ],
      "execution_count": null,
      "outputs": [
        {
          "output_type": "execute_result",
          "data": {
            "text/plain": [
              "1.0"
            ]
          },
          "metadata": {
            "tags": []
          },
          "execution_count": 35
        }
      ]
    },
    {
      "cell_type": "code",
      "metadata": {
        "id": "IjwpV1RTiPmI",
        "colab": {
          "base_uri": "https://localhost:8080/",
          "height": 72
        },
        "outputId": "672ccf88-c7a4-4619-8688-0f806b2a128a"
      },
      "source": [
        "print(np.log10(1))\n",
        "print(np.log10(0.1))\n",
        "print(np.log10(10000))"
      ],
      "execution_count": null,
      "outputs": [
        {
          "output_type": "stream",
          "text": [
            "0.0\n",
            "-1.0\n",
            "4.0\n"
          ],
          "name": "stdout"
        }
      ]
    },
    {
      "cell_type": "markdown",
      "metadata": {
        "id": "S5S3HEzw80ri"
      },
      "source": [
        "次に，Numpyで定義されたリストの拡張である「Numpy配列」を使います．\n",
        "\n",
        "Numpy配列は，以下のように使います．\n",
        "```\n",
        "np.array(リスト)\n",
        "```\n",
        "\n",
        "次に使用例を示します．"
      ]
    },
    {
      "cell_type": "code",
      "metadata": {
        "id": "90RH7WtGikD8",
        "colab": {
          "base_uri": "https://localhost:8080/",
          "height": 35
        },
        "outputId": "0f845a40-8cc7-4e7f-88a9-3e0174f92ea3"
      },
      "source": [
        "a = np.array([1, 2, 4])\n",
        "a"
      ],
      "execution_count": null,
      "outputs": [
        {
          "output_type": "execute_result",
          "data": {
            "text/plain": [
              "array([1, 2, 4])"
            ]
          },
          "metadata": {
            "tags": []
          },
          "execution_count": 39
        }
      ]
    },
    {
      "cell_type": "markdown",
      "metadata": {
        "id": "yvpdMsUw9xkC"
      },
      "source": [
        "Numpy配列には，多次元リスト（リストのリスト）を渡すこともできます．\n",
        "\n",
        "多次元リストをNumpy配列に渡すと，多次元配列と呼ばれます．\n",
        "\n",
        "このようにして，行列やベクトルを表現できます．\n",
        "\n"
      ]
    },
    {
      "cell_type": "code",
      "metadata": {
        "id": "pil3Pb859hTm",
        "colab": {
          "base_uri": "https://localhost:8080/",
          "height": 72
        },
        "outputId": "0fdcdfa5-2f0d-4a90-f6e6-2d923a1bf5b3"
      },
      "source": [
        "matrix = np.array([[1, 2, 3], [2, 3, 4], [3, 4, 5]])\n",
        "matrix"
      ],
      "execution_count": null,
      "outputs": [
        {
          "output_type": "execute_result",
          "data": {
            "text/plain": [
              "array([[1, 2, 3],\n",
              "       [2, 3, 4],\n",
              "       [3, 4, 5]])"
            ]
          },
          "metadata": {
            "tags": []
          },
          "execution_count": 40
        }
      ]
    },
    {
      "cell_type": "code",
      "metadata": {
        "id": "OnQibaLF_ssA",
        "colab": {
          "base_uri": "https://localhost:8080/",
          "height": 72
        },
        "outputId": "8a5f5e7d-4074-49df-a6f0-75aa21e68e67"
      },
      "source": [
        "vector = np.array([[1], [2], [3]])\n",
        "vector"
      ],
      "execution_count": null,
      "outputs": [
        {
          "output_type": "execute_result",
          "data": {
            "text/plain": [
              "array([[1],\n",
              "       [2],\n",
              "       [3]])"
            ]
          },
          "metadata": {
            "tags": []
          },
          "execution_count": 41
        }
      ]
    },
    {
      "cell_type": "markdown",
      "metadata": {
        "id": "Muf8RHHLCAjz"
      },
      "source": [
        "Numpy配列の形を調べたいときは，np.array.shapeを参照します．"
      ]
    },
    {
      "cell_type": "code",
      "metadata": {
        "id": "Aip1HLmkCKHS",
        "colab": {
          "base_uri": "https://localhost:8080/",
          "height": 35
        },
        "outputId": "7b9ef80e-86d6-4c78-c26d-e3c2881cb54b"
      },
      "source": [
        "matrix.shape"
      ],
      "execution_count": null,
      "outputs": [
        {
          "output_type": "execute_result",
          "data": {
            "text/plain": [
              "(3, 3)"
            ]
          },
          "metadata": {
            "tags": []
          },
          "execution_count": 42
        }
      ]
    },
    {
      "cell_type": "markdown",
      "metadata": {
        "id": "MkUrDOEUDIuE"
      },
      "source": [
        "Pythonのリストよりも，Numpy配列の方が線形代数演算に向いています．\n",
        "\n",
        "ベクトルや行列を含む計算には，積極的にNumpy配列を使います．\n",
        "\n",
        "例えばこのように，+記号でベクトル同士の和を表現できたり，\\*記号で定数倍を表現できます．\n",
        "\n"
      ]
    },
    {
      "cell_type": "code",
      "metadata": {
        "id": "08LzxlzyIAGl",
        "colab": {
          "base_uri": "https://localhost:8080/",
          "height": 72
        },
        "outputId": "29c40e0b-32b4-4849-cb91-943f8c3c814e"
      },
      "source": [
        "vector_2 = np.array([[2], [5], [6]])\n",
        "vector + vector_2"
      ],
      "execution_count": null,
      "outputs": [
        {
          "output_type": "execute_result",
          "data": {
            "text/plain": [
              "array([[3],\n",
              "       [7],\n",
              "       [9]])"
            ]
          },
          "metadata": {
            "tags": []
          },
          "execution_count": 43
        }
      ]
    },
    {
      "cell_type": "code",
      "metadata": {
        "id": "C4NgMdmkIU9_",
        "colab": {
          "base_uri": "https://localhost:8080/",
          "height": 72
        },
        "outputId": "eaeaece1-b16c-4bc6-911d-1adb2f6b5b5e"
      },
      "source": [
        "3 * vector"
      ],
      "execution_count": null,
      "outputs": [
        {
          "output_type": "execute_result",
          "data": {
            "text/plain": [
              "array([[3],\n",
              "       [6],\n",
              "       [9]])"
            ]
          },
          "metadata": {
            "tags": []
          },
          "execution_count": 44
        }
      ]
    },
    {
      "cell_type": "markdown",
      "metadata": {
        "id": "D_r1zWtnH8U9"
      },
      "source": [
        "@演算を使って行列同士の積や行列とベクトルの積を表現できます．"
      ]
    },
    {
      "cell_type": "code",
      "metadata": {
        "id": "-7JBtb0MDuzF",
        "colab": {
          "base_uri": "https://localhost:8080/",
          "height": 72
        },
        "outputId": "1431a76c-f22a-4fa6-cfd6-b31eb8ae58be"
      },
      "source": [
        "matrix @ vector"
      ],
      "execution_count": null,
      "outputs": [
        {
          "output_type": "execute_result",
          "data": {
            "text/plain": [
              "array([[14],\n",
              "       [20],\n",
              "       [26]])"
            ]
          },
          "metadata": {
            "tags": []
          },
          "execution_count": 45
        }
      ]
    },
    {
      "cell_type": "markdown",
      "metadata": {
        "id": "x9UBWaIgFuS7"
      },
      "source": [
        "# グラフの表示\n",
        "---\n",
        "\n",
        "ここからはより応用的な内容です．\n",
        "\n",
        "グラフを表示するための多くのモジュールが公開されていますが，今回はMatplotlibを扱います．\n",
        "\n",
        "import文はこのように書きます．\n",
        "```\n",
        "import matplotlib.pyplot as plt\n",
        "```\n",
        "\n",
        "Matplotlibの使い方は比較的難しいので，「なぜそうなるのか」を考えるよりも，典型的な使い方を覚えましょう．\n",
        "\n",
        "まずは最も簡単なグラフ：直線を描画します．\n",
        "\n",
        "2次元平面にグラフを描画するための書式を次に示します．\n",
        "```\n",
        "plt.plot(x軸の値のリスト, y軸の値のリスト)\n",
        "```\n",
        "\n",
        "例として，`y = 2 x + 3`の直線を描画します．"
      ]
    },
    {
      "cell_type": "code",
      "metadata": {
        "id": "QMSE7qlFC9dG",
        "colab": {
          "base_uri": "https://localhost:8080/",
          "height": 283
        },
        "outputId": "57d6141a-7d92-45d5-8085-074bf7221e1f"
      },
      "source": [
        "import matplotlib.pyplot as plt\n",
        "\n",
        "# x軸のNumpy配列\n",
        "x = np.array(range(5))\n",
        "# y軸のNumpy配列\n",
        "y = 2 * x + 3\n",
        "\n",
        "plt.plot(x, y)"
      ],
      "execution_count": null,
      "outputs": [
        {
          "output_type": "execute_result",
          "data": {
            "text/plain": [
              "[<matplotlib.lines.Line2D at 0x7fe8581b83d0>]"
            ]
          },
          "metadata": {
            "tags": []
          },
          "execution_count": 36
        },
        {
          "output_type": "display_data",
          "data": {
            "image/png": "[encoded data removed]",
            "text/plain": [
              "<Figure size 432x288 with 1 Axes>"
            ]
          },
          "metadata": {
            "tags": [],
            "needs_background": "light"
          }
        }
      ]
    },
    {
      "cell_type": "markdown",
      "metadata": {
        "id": "lAECRWspJrTV"
      },
      "source": [
        "次に，y = x ** 2（xの2乗）のグラフを描画します．"
      ]
    },
    {
      "cell_type": "code",
      "metadata": {
        "id": "j8cqjTeaItZE",
        "colab": {
          "base_uri": "https://localhost:8080/",
          "height": 283
        },
        "outputId": "99a4d053-4725-47d1-c482-e691edf90556"
      },
      "source": [
        "y = x ** 2\n",
        "plt.plot(x, y)"
      ],
      "execution_count": null,
      "outputs": [
        {
          "output_type": "execute_result",
          "data": {
            "text/plain": [
              "[<matplotlib.lines.Line2D at 0x7fe857c956d0>]"
            ]
          },
          "metadata": {
            "tags": []
          },
          "execution_count": 37
        },
        {
          "output_type": "display_data",
          "data": {
            "image/png": "[encoded data removed]",
            "text/plain": [
              "<Figure size 432x288 with 1 Axes>"
            ]
          },
          "metadata": {
            "tags": [],
            "needs_background": "light"
          }
        }
      ]
    },
    {
      "cell_type": "markdown",
      "metadata": {
        "id": "DB8ysd-jKDlZ"
      },
      "source": [
        "もう少し滑らかな曲線を引きたいときや，xが負の場合の曲線を描画したいときは，データ点を増やします．\n",
        "\n",
        "rangeよりも高機能なnp.linspaceを使います．\n",
        "\n",
        "書式\n",
        "```\n",
        "np.linspace(始め, 終わり, データ点の数)\n",
        "```"
      ]
    },
    {
      "cell_type": "code",
      "metadata": {
        "id": "25pRFistJ8fV",
        "colab": {
          "base_uri": "https://localhost:8080/"
        },
        "outputId": "d23e0022-ac86-4fbb-e082-1ae1fcf9ef3a"
      },
      "source": [
        "x = np.linspace(-10, 10, 30)\n",
        "x"
      ],
      "execution_count": null,
      "outputs": [
        {
          "output_type": "execute_result",
          "data": {
            "text/plain": [
              "array([-10.        ,  -9.31034483,  -8.62068966,  -7.93103448,\n",
              "        -7.24137931,  -6.55172414,  -5.86206897,  -5.17241379,\n",
              "        -4.48275862,  -3.79310345,  -3.10344828,  -2.4137931 ,\n",
              "        -1.72413793,  -1.03448276,  -0.34482759,   0.34482759,\n",
              "         1.03448276,   1.72413793,   2.4137931 ,   3.10344828,\n",
              "         3.79310345,   4.48275862,   5.17241379,   5.86206897,\n",
              "         6.55172414,   7.24137931,   7.93103448,   8.62068966,\n",
              "         9.31034483,  10.        ])"
            ]
          },
          "metadata": {
            "tags": []
          },
          "execution_count": 38
        }
      ]
    },
    {
      "cell_type": "code",
      "metadata": {
        "id": "zvjqEAKWKvbd",
        "colab": {
          "base_uri": "https://localhost:8080/",
          "height": 283
        },
        "outputId": "a9ff31f5-6a06-41b8-a6b8-c969687bc75e"
      },
      "source": [
        "y = x ** 2\n",
        "plt.plot(x, y)"
      ],
      "execution_count": null,
      "outputs": [
        {
          "output_type": "execute_result",
          "data": {
            "text/plain": [
              "[<matplotlib.lines.Line2D at 0x7fe85c2e6a90>]"
            ]
          },
          "metadata": {
            "tags": []
          },
          "execution_count": 39
        },
        {
          "output_type": "display_data",
          "data": {
            "image/png": "[encoded data removed]",
            "text/plain": [
              "<Figure size 432x288 with 1 Axes>"
            ]
          },
          "metadata": {
            "tags": [],
            "needs_background": "light"
          }
        }
      ]
    },
    {
      "cell_type": "markdown",
      "metadata": {
        "id": "5-rRZnwR68u6"
      },
      "source": [
        "例題\n",
        "- y = x ** 3のグラフを描画しよう（区間は-3から3まで，データ点数は50）\n",
        "- y = x ** 2 + x ** 3のグラフを描画しよう（条件は上の例題と同じ）"
      ]
    },
    {
      "cell_type": "markdown",
      "metadata": {
        "id": "S8AdvoeBLam0"
      },
      "source": [
        "# 画像の表示\n",
        "---\n",
        "\n",
        "画像がPythonのプログラムでどのように表現されているのか学びます．\n",
        "\n",
        "例として，MNISTの手書き文字データセットを取得し，中身をのぞいてみます．"
      ]
    },
    {
      "cell_type": "code",
      "metadata": {
        "id": "4dqP9VFwLRAS",
        "colab": {
          "base_uri": "https://localhost:8080/",
          "height": 1000
        },
        "outputId": "a9579be2-e95f-431b-c7a9-db7bdf1da038"
      },
      "source": [
        "import keras.datasets.mnist as mnist\n",
        "\n",
        "dataset = mnist.load_data()\n",
        "dataset"
      ],
      "execution_count": null,
      "outputs": [
        {
          "output_type": "stream",
          "text": [
            "Using TensorFlow backend.\n"
          ],
          "name": "stderr"
        },
        {
          "output_type": "stream",
          "text": [
            "Downloading data from https://s3.amazonaws.com/img-datasets/mnist.npz\n",
            "11493376/11490434 [==============================] - 0s 0us/step\n"
          ],
          "name": "stdout"
        },
        {
          "output_type": "execute_result",
          "data": {
            "text/plain": [
              "((array([[[0, 0, 0, ..., 0, 0, 0],\n",
              "          [0, 0, 0, ..., 0, 0, 0],\n",
              "          [0, 0, 0, ..., 0, 0, 0],\n",
              "          ...,\n",
              "          [0, 0, 0, ..., 0, 0, 0],\n",
              "          [0, 0, 0, ..., 0, 0, 0],\n",
              "          [0, 0, 0, ..., 0, 0, 0]],\n",
              "  \n",
              "         [[0, 0, 0, ..., 0, 0, 0],\n",
              "          [0, 0, 0, ..., 0, 0, 0],\n",
              "          [0, 0, 0, ..., 0, 0, 0],\n",
              "          ...,\n",
              "          [0, 0, 0, ..., 0, 0, 0],\n",
              "          [0, 0, 0, ..., 0, 0, 0],\n",
              "          [0, 0, 0, ..., 0, 0, 0]],\n",
              "  \n",
              "         [[0, 0, 0, ..., 0, 0, 0],\n",
              "          [0, 0, 0, ..., 0, 0, 0],\n",
              "          [0, 0, 0, ..., 0, 0, 0],\n",
              "          ...,\n",
              "          [0, 0, 0, ..., 0, 0, 0],\n",
              "          [0, 0, 0, ..., 0, 0, 0],\n",
              "          [0, 0, 0, ..., 0, 0, 0]],\n",
              "  \n",
              "         ...,\n",
              "  \n",
              "         [[0, 0, 0, ..., 0, 0, 0],\n",
              "          [0, 0, 0, ..., 0, 0, 0],\n",
              "          [0, 0, 0, ..., 0, 0, 0],\n",
              "          ...,\n",
              "          [0, 0, 0, ..., 0, 0, 0],\n",
              "          [0, 0, 0, ..., 0, 0, 0],\n",
              "          [0, 0, 0, ..., 0, 0, 0]],\n",
              "  \n",
              "         [[0, 0, 0, ..., 0, 0, 0],\n",
              "          [0, 0, 0, ..., 0, 0, 0],\n",
              "          [0, 0, 0, ..., 0, 0, 0],\n",
              "          ...,\n",
              "          [0, 0, 0, ..., 0, 0, 0],\n",
              "          [0, 0, 0, ..., 0, 0, 0],\n",
              "          [0, 0, 0, ..., 0, 0, 0]],\n",
              "  \n",
              "         [[0, 0, 0, ..., 0, 0, 0],\n",
              "          [0, 0, 0, ..., 0, 0, 0],\n",
              "          [0, 0, 0, ..., 0, 0, 0],\n",
              "          ...,\n",
              "          [0, 0, 0, ..., 0, 0, 0],\n",
              "          [0, 0, 0, ..., 0, 0, 0],\n",
              "          [0, 0, 0, ..., 0, 0, 0]]], dtype=uint8),\n",
              "  array([5, 0, 4, ..., 5, 6, 8], dtype=uint8)),\n",
              " (array([[[0, 0, 0, ..., 0, 0, 0],\n",
              "          [0, 0, 0, ..., 0, 0, 0],\n",
              "          [0, 0, 0, ..., 0, 0, 0],\n",
              "          ...,\n",
              "          [0, 0, 0, ..., 0, 0, 0],\n",
              "          [0, 0, 0, ..., 0, 0, 0],\n",
              "          [0, 0, 0, ..., 0, 0, 0]],\n",
              "  \n",
              "         [[0, 0, 0, ..., 0, 0, 0],\n",
              "          [0, 0, 0, ..., 0, 0, 0],\n",
              "          [0, 0, 0, ..., 0, 0, 0],\n",
              "          ...,\n",
              "          [0, 0, 0, ..., 0, 0, 0],\n",
              "          [0, 0, 0, ..., 0, 0, 0],\n",
              "          [0, 0, 0, ..., 0, 0, 0]],\n",
              "  \n",
              "         [[0, 0, 0, ..., 0, 0, 0],\n",
              "          [0, 0, 0, ..., 0, 0, 0],\n",
              "          [0, 0, 0, ..., 0, 0, 0],\n",
              "          ...,\n",
              "          [0, 0, 0, ..., 0, 0, 0],\n",
              "          [0, 0, 0, ..., 0, 0, 0],\n",
              "          [0, 0, 0, ..., 0, 0, 0]],\n",
              "  \n",
              "         ...,\n",
              "  \n",
              "         [[0, 0, 0, ..., 0, 0, 0],\n",
              "          [0, 0, 0, ..., 0, 0, 0],\n",
              "          [0, 0, 0, ..., 0, 0, 0],\n",
              "          ...,\n",
              "          [0, 0, 0, ..., 0, 0, 0],\n",
              "          [0, 0, 0, ..., 0, 0, 0],\n",
              "          [0, 0, 0, ..., 0, 0, 0]],\n",
              "  \n",
              "         [[0, 0, 0, ..., 0, 0, 0],\n",
              "          [0, 0, 0, ..., 0, 0, 0],\n",
              "          [0, 0, 0, ..., 0, 0, 0],\n",
              "          ...,\n",
              "          [0, 0, 0, ..., 0, 0, 0],\n",
              "          [0, 0, 0, ..., 0, 0, 0],\n",
              "          [0, 0, 0, ..., 0, 0, 0]],\n",
              "  \n",
              "         [[0, 0, 0, ..., 0, 0, 0],\n",
              "          [0, 0, 0, ..., 0, 0, 0],\n",
              "          [0, 0, 0, ..., 0, 0, 0],\n",
              "          ...,\n",
              "          [0, 0, 0, ..., 0, 0, 0],\n",
              "          [0, 0, 0, ..., 0, 0, 0],\n",
              "          [0, 0, 0, ..., 0, 0, 0]]], dtype=uint8),\n",
              "  array([7, 2, 1, ..., 4, 5, 6], dtype=uint8)))"
            ]
          },
          "metadata": {
            "tags": []
          },
          "execution_count": 50
        }
      ]
    },
    {
      "cell_type": "markdown",
      "metadata": {
        "id": "dqh5vd_606uF"
      },
      "source": [
        "画像がダウンロードできたので，それぞれの画像を詳しくみていきます．\n",
        "\n",
        "画像はリストの形式になっているので，わかりやすいように展開してあげます．"
      ]
    },
    {
      "cell_type": "code",
      "metadata": {
        "id": "fqWtwKW9yXJv",
        "colab": {
          "base_uri": "https://localhost:8080/",
          "height": 35
        },
        "outputId": "51862f58-b051-45f1-fc5b-30efb4eccf76"
      },
      "source": [
        "# image_1, image_2: 画像\n",
        "# label_1, label_2: 手書き文字画像がどの数字の画像かを示すラベル\n",
        "(image_1, label_1), (image_2, label_2) = dataset\n",
        "image_1.shape"
      ],
      "execution_count": null,
      "outputs": [
        {
          "output_type": "execute_result",
          "data": {
            "text/plain": [
              "(60000, 28, 28)"
            ]
          },
          "metadata": {
            "tags": []
          },
          "execution_count": 51
        }
      ]
    },
    {
      "cell_type": "code",
      "metadata": {
        "id": "eScDkKb8Co8s",
        "colab": {
          "base_uri": "https://localhost:8080/",
          "height": 1000
        },
        "outputId": "33587fc4-0d2a-49b9-e4f2-c906134667db"
      },
      "source": [
        "image_1[0]"
      ],
      "execution_count": null,
      "outputs": [
        {
          "output_type": "execute_result",
          "data": {
            "text/plain": [
              "array([[  0,   0,   0,   0,   0,   0,   0,   0,   0,   0,   0,   0,   0,\n",
              "          0,   0,   0,   0,   0,   0,   0,   0,   0,   0,   0,   0,   0,\n",
              "          0,   0],\n",
              "       [  0,   0,   0,   0,   0,   0,   0,   0,   0,   0,   0,   0,   0,\n",
              "          0,   0,   0,   0,   0,   0,   0,   0,   0,   0,   0,   0,   0,\n",
              "          0,   0],\n",
              "       [  0,   0,   0,   0,   0,   0,   0,   0,   0,   0,   0,   0,   0,\n",
              "          0,   0,   0,   0,   0,   0,   0,   0,   0,   0,   0,   0,   0,\n",
              "          0,   0],\n",
              "       [  0,   0,   0,   0,   0,   0,   0,   0,   0,   0,   0,   0,   0,\n",
              "          0,   0,   0,   0,   0,   0,   0,   0,   0,   0,   0,   0,   0,\n",
              "          0,   0],\n",
              "       [  0,   0,   0,   0,   0,   0,   0,   0,   0,   0,   0,   0,   0,\n",
              "          0,   0,   0,   0,   0,   0,   0,   0,   0,   0,   0,   0,   0,\n",
              "          0,   0],\n",
              "       [  0,   0,   0,   0,   0,   0,   0,   0,   0,   0,   0,   0,   3,\n",
              "         18,  18,  18, 126, 136, 175,  26, 166, 255, 247, 127,   0,   0,\n",
              "          0,   0],\n",
              "       [  0,   0,   0,   0,   0,   0,   0,   0,  30,  36,  94, 154, 170,\n",
              "        253, 253, 253, 253, 253, 225, 172, 253, 242, 195,  64,   0,   0,\n",
              "          0,   0],\n",
              "       [  0,   0,   0,   0,   0,   0,   0,  49, 238, 253, 253, 253, 253,\n",
              "        253, 253, 253, 253, 251,  93,  82,  82,  56,  39,   0,   0,   0,\n",
              "          0,   0],\n",
              "       [  0,   0,   0,   0,   0,   0,   0,  18, 219, 253, 253, 253, 253,\n",
              "        253, 198, 182, 247, 241,   0,   0,   0,   0,   0,   0,   0,   0,\n",
              "          0,   0],\n",
              "       [  0,   0,   0,   0,   0,   0,   0,   0,  80, 156, 107, 253, 253,\n",
              "        205,  11,   0,  43, 154,   0,   0,   0,   0,   0,   0,   0,   0,\n",
              "          0,   0],\n",
              "       [  0,   0,   0,   0,   0,   0,   0,   0,   0,  14,   1, 154, 253,\n",
              "         90,   0,   0,   0,   0,   0,   0,   0,   0,   0,   0,   0,   0,\n",
              "          0,   0],\n",
              "       [  0,   0,   0,   0,   0,   0,   0,   0,   0,   0,   0, 139, 253,\n",
              "        190,   2,   0,   0,   0,   0,   0,   0,   0,   0,   0,   0,   0,\n",
              "          0,   0],\n",
              "       [  0,   0,   0,   0,   0,   0,   0,   0,   0,   0,   0,  11, 190,\n",
              "        253,  70,   0,   0,   0,   0,   0,   0,   0,   0,   0,   0,   0,\n",
              "          0,   0],\n",
              "       [  0,   0,   0,   0,   0,   0,   0,   0,   0,   0,   0,   0,  35,\n",
              "        241, 225, 160, 108,   1,   0,   0,   0,   0,   0,   0,   0,   0,\n",
              "          0,   0],\n",
              "       [  0,   0,   0,   0,   0,   0,   0,   0,   0,   0,   0,   0,   0,\n",
              "         81, 240, 253, 253, 119,  25,   0,   0,   0,   0,   0,   0,   0,\n",
              "          0,   0],\n",
              "       [  0,   0,   0,   0,   0,   0,   0,   0,   0,   0,   0,   0,   0,\n",
              "          0,  45, 186, 253, 253, 150,  27,   0,   0,   0,   0,   0,   0,\n",
              "          0,   0],\n",
              "       [  0,   0,   0,   0,   0,   0,   0,   0,   0,   0,   0,   0,   0,\n",
              "          0,   0,  16,  93, 252, 253, 187,   0,   0,   0,   0,   0,   0,\n",
              "          0,   0],\n",
              "       [  0,   0,   0,   0,   0,   0,   0,   0,   0,   0,   0,   0,   0,\n",
              "          0,   0,   0,   0, 249, 253, 249,  64,   0,   0,   0,   0,   0,\n",
              "          0,   0],\n",
              "       [  0,   0,   0,   0,   0,   0,   0,   0,   0,   0,   0,   0,   0,\n",
              "          0,  46, 130, 183, 253, 253, 207,   2,   0,   0,   0,   0,   0,\n",
              "          0,   0],\n",
              "       [  0,   0,   0,   0,   0,   0,   0,   0,   0,   0,   0,   0,  39,\n",
              "        148, 229, 253, 253, 253, 250, 182,   0,   0,   0,   0,   0,   0,\n",
              "          0,   0],\n",
              "       [  0,   0,   0,   0,   0,   0,   0,   0,   0,   0,  24, 114, 221,\n",
              "        253, 253, 253, 253, 201,  78,   0,   0,   0,   0,   0,   0,   0,\n",
              "          0,   0],\n",
              "       [  0,   0,   0,   0,   0,   0,   0,   0,  23,  66, 213, 253, 253,\n",
              "        253, 253, 198,  81,   2,   0,   0,   0,   0,   0,   0,   0,   0,\n",
              "          0,   0],\n",
              "       [  0,   0,   0,   0,   0,   0,  18, 171, 219, 253, 253, 253, 253,\n",
              "        195,  80,   9,   0,   0,   0,   0,   0,   0,   0,   0,   0,   0,\n",
              "          0,   0],\n",
              "       [  0,   0,   0,   0,  55, 172, 226, 253, 253, 253, 253, 244, 133,\n",
              "         11,   0,   0,   0,   0,   0,   0,   0,   0,   0,   0,   0,   0,\n",
              "          0,   0],\n",
              "       [  0,   0,   0,   0, 136, 253, 253, 253, 212, 135, 132,  16,   0,\n",
              "          0,   0,   0,   0,   0,   0,   0,   0,   0,   0,   0,   0,   0,\n",
              "          0,   0],\n",
              "       [  0,   0,   0,   0,   0,   0,   0,   0,   0,   0,   0,   0,   0,\n",
              "          0,   0,   0,   0,   0,   0,   0,   0,   0,   0,   0,   0,   0,\n",
              "          0,   0],\n",
              "       [  0,   0,   0,   0,   0,   0,   0,   0,   0,   0,   0,   0,   0,\n",
              "          0,   0,   0,   0,   0,   0,   0,   0,   0,   0,   0,   0,   0,\n",
              "          0,   0],\n",
              "       [  0,   0,   0,   0,   0,   0,   0,   0,   0,   0,   0,   0,   0,\n",
              "          0,   0,   0,   0,   0,   0,   0,   0,   0,   0,   0,   0,   0,\n",
              "          0,   0]], dtype=uint8)"
            ]
          },
          "metadata": {
            "tags": []
          },
          "execution_count": 52
        }
      ]
    },
    {
      "cell_type": "markdown",
      "metadata": {
        "id": "IjLOoRfs1ugv"
      },
      "source": [
        "このように，1枚の画像は2次元のNumpy配列で表現されています．\n",
        "\n",
        "つまり，2次元平面の座標上で，画像の色情報を表す値が格納されています．\n",
        "\n",
        "それでは次に，これを画像として表示します．\n",
        "\n",
        "画像の表示にも，グラフの表示で使用したMatplotlibが使えます．\n",
        "\n",
        "画像の表示方法：\n",
        "```\n",
        "plt.imshow(画像を格納したNumpy配列)\n",
        "```"
      ]
    },
    {
      "cell_type": "code",
      "metadata": {
        "id": "w9J3B-RrzpSl",
        "colab": {
          "base_uri": "https://localhost:8080/",
          "height": 287
        },
        "outputId": "751ff2ca-7b61-47df-dfe1-c35d134dc850"
      },
      "source": [
        "plt.imshow(image_1[0])"
      ],
      "execution_count": null,
      "outputs": [
        {
          "output_type": "execute_result",
          "data": {
            "text/plain": [
              "<matplotlib.image.AxesImage at 0x7efdb7d3e1d0>"
            ]
          },
          "metadata": {
            "tags": []
          },
          "execution_count": 53
        },
        {
          "output_type": "display_data",
          "data": {
            "image/png": "[encoded data removed]",
            "text/plain": [
              "<Figure size 432x288 with 1 Axes>"
            ]
          },
          "metadata": {
            "tags": []
          }
        }
      ]
    },
    {
      "cell_type": "code",
      "metadata": {
        "id": "0oPnLShx7pXu",
        "colab": {
          "base_uri": "https://localhost:8080/",
          "height": 35
        },
        "outputId": "faf6ae48-839c-4ba4-fc43-f4360c00799e"
      },
      "source": [
        "label_1[0]"
      ],
      "execution_count": null,
      "outputs": [
        {
          "output_type": "execute_result",
          "data": {
            "text/plain": [
              "5"
            ]
          },
          "metadata": {
            "tags": []
          },
          "execution_count": 54
        }
      ]
    },
    {
      "cell_type": "code",
      "metadata": {
        "id": "mzHnlumK3HtI",
        "colab": {
          "base_uri": "https://localhost:8080/",
          "height": 287
        },
        "outputId": "77d27fa3-d602-45a3-ff85-619af7d6b67d"
      },
      "source": [
        "plt.imshow(image_1[1])"
      ],
      "execution_count": null,
      "outputs": [
        {
          "output_type": "execute_result",
          "data": {
            "text/plain": [
              "<matplotlib.image.AxesImage at 0x7efdb7d19978>"
            ]
          },
          "metadata": {
            "tags": []
          },
          "execution_count": 55
        },
        {
          "output_type": "display_data",
          "data": {
            "image/png": "[encoded data removed]",
            "text/plain": [
              "<Figure size 432x288 with 1 Axes>"
            ]
          },
          "metadata": {
            "tags": []
          }
        }
      ]
    },
    {
      "cell_type": "code",
      "metadata": {
        "id": "1cCRjY1i7sca",
        "colab": {
          "base_uri": "https://localhost:8080/",
          "height": 35
        },
        "outputId": "e588bd96-0651-452a-f9fb-59bfc81107bc"
      },
      "source": [
        "label_1[1]"
      ],
      "execution_count": null,
      "outputs": [
        {
          "output_type": "execute_result",
          "data": {
            "text/plain": [
              "0"
            ]
          },
          "metadata": {
            "tags": []
          },
          "execution_count": 56
        }
      ]
    },
    {
      "cell_type": "code",
      "metadata": {
        "id": "Sl9ex-R43O2u",
        "colab": {
          "base_uri": "https://localhost:8080/",
          "height": 287
        },
        "outputId": "73933a2c-0106-4d5e-cece-b89c020f7d4c"
      },
      "source": [
        "plt.imshow(image_1[3])"
      ],
      "execution_count": null,
      "outputs": [
        {
          "output_type": "execute_result",
          "data": {
            "text/plain": [
              "<matplotlib.image.AxesImage at 0x7efdb7cf64e0>"
            ]
          },
          "metadata": {
            "tags": []
          },
          "execution_count": 57
        },
        {
          "output_type": "display_data",
          "data": {
            "image/png": "[encoded data removed]",
            "text/plain": [
              "<Figure size 432x288 with 1 Axes>"
            ]
          },
          "metadata": {
            "tags": []
          }
        }
      ]
    },
    {
      "cell_type": "code",
      "metadata": {
        "id": "_s5vdvC87uNQ",
        "colab": {
          "base_uri": "https://localhost:8080/",
          "height": 35
        },
        "outputId": "ed3297d6-3b20-4d25-d0af-e85ffa136653"
      },
      "source": [
        "label_1[3]"
      ],
      "execution_count": null,
      "outputs": [
        {
          "output_type": "execute_result",
          "data": {
            "text/plain": [
              "1"
            ]
          },
          "metadata": {
            "tags": []
          },
          "execution_count": 58
        }
      ]
    },
    {
      "cell_type": "markdown",
      "metadata": {
        "id": "tysEwWHW3V1W"
      },
      "source": [
        "画像を表現するNumpy配列の中身と画像の表示結果を見ると，Numpy配列の0は暗く表示され，値が大きくなるにつれて明るく表示されることがわかります．"
      ]
    },
    {
      "cell_type": "markdown",
      "metadata": {
        "id": "rHSV10oq70Te"
      },
      "source": [
        "例題\n",
        "- `image_1[3]`に格納された画像の中央の座標の値を調べてみよう（中央のx座標，y座標の値はどちらも14です）\n"
      ]
    },
    {
      "cell_type": "markdown",
      "metadata": {
        "id": "b-9TWzZj5_zX"
      },
      "source": [
        "© 2019 Yusuke Arai. All rights reserved."
      ]
    }
  ]
}