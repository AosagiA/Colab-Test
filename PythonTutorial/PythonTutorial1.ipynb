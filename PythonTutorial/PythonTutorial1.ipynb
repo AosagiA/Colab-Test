{
  "nbformat": 4,
  "nbformat_minor": 0,
  "metadata": {
    "colab": {
      "provenance": [],
      "toc_visible": true,
      "authorship_tag": "ABX9TyN/WHeTkTiMM0a7DJW52opE",
      "include_colab_link": true
    },
    "kernelspec": {
      "name": "python3",
      "display_name": "Python 3"
    },
    "language_info": {
      "name": "python"
    }
  },
  "cells": [
    {
      "cell_type": "markdown",
      "metadata": {
        "id": "view-in-github",
        "colab_type": "text"
      },
      "source": [
        "<a href=\"https://colab.research.google.com/github/AosagiA/Colab-Test/blob/main/PythonTutorial/PythonTutorial1.ipynb\" target=\"_parent\"><img src=\"https://colab.research.google.com/assets/colab-badge.svg\" alt=\"Open In Colab\"/></a>"
      ]
    },
    {
      "cell_type": "markdown",
      "source": [
        "![あおきゅうプログラミング 500x100](https://raw.githubusercontent.com/ao9-work-team/Ao9-Templates/main/images/banner.png)\n",
        "\n",
        "[Top](https://github.com/ao9-prog-team/ColabHandbook/tree/main)\n",
        "[List](https://github.com/ao9-prog-team/ColabHandbook/blob/main/CourseList.md)\n",
        "\n",
        "# 初めてのColabノートブック\n",
        "\n",
        "> Author: AosagiA <br>\n",
        "> Date: 2023/11/11 <br>\n",
        "> Last Update: 2023/11/11\n",
        "<hr>\n",
        "\n",
        "## 概要:\n",
        "　ここでは初めて**Python**に触れる人、初めてプログラミングに挑戦する人向けの、Pythonでプログラミング入門ノートブックです。\n",
        "\n",
        "Google Colaboratoryを初めて使う人は、1つ前のノートから始めることをおすすめします。\n",
        "* [はじめてのColabノートブック](https://colab.research.google.com/github/ao9-prog-team/ColabHandbook/blob/main/NotebookTutorial/NotebookTutorial1.ipynb)\n",
        "\n",
        "Pythonのチュートリアルは [公式](https://www.python.jp/train/index.html) でもとても分かりやすいノートブックが出ています。\n",
        "\n",
        "ここではその内容をさらにかいつまんだり、少し実用的な例を交えたりしてやっていきますので、もっとじっくりゆっくり取り組みたい方は先に公式の入門講座をやってみるのもいいでしょう。\n",
        "<hr>"
      ],
      "metadata": {
        "id": "vxk3dMWBfOyc"
      }
    },
    {
      "cell_type": "markdown",
      "source": [
        "### ノートブックをコピーしよう\n",
        "\n",
        "まず最初に、ノートブックを自分用にコピーします。\n",
        "上のメニューにある「ドライブにコピー」をクリックしてください。"
      ],
      "metadata": {
        "id": "gNdu0SkiaPFc"
      }
    },
    {
      "cell_type": "markdown",
      "source": [
        "## コードを入力してみよう\n",
        "\n",
        "下にコードセルを追加し、`1 + 1`と打って実行してみましょう。\n",
        "\n",
        "記号や数字の前後の半角スペースは、プログラム上無視されるのでどれだけ空けてもいいし、空けなくてもいいです。一般的には記号の前後の空白を入れた方が見やすいです。ただし、次の点に気を付けてください。\n",
        "\n",
        "* **行頭には空白を入れない**\n",
        "  * Pythonの行頭の空白は**インデント(字下げ)**として扱われ、特別な意味を持ちます。\n",
        "\n",
        "* **全角スペースは使わない**\n",
        "  * 数字も半角で入力します。全角だとエラーになってしまいます。\n",
        "\n",
        "<pre>\n",
        "この下にコードセルを追加\n",
        "</pre>"
      ],
      "metadata": {
        "id": "HBCJDi1DXvTk"
      }
    },
    {
      "cell_type": "markdown",
      "source": [
        "打てましたか？もし行頭に空白を入れてしまったり、全角スペースを使ったりしてしまうと、エラーが発生して赤いメッセージが表示されます。\n",
        "\n",
        "そんなときは落ち着いて間違えたところがないかコードを見なおしてみましょう。\n",
        "\n",
        "原因の分からないエラーが発生した場合は、こちらのPython公式チュートリアルを見ると解決するかもしれません。\n",
        "  - [エラーになったときは](https://www.python.jp/train/experience/on-error.html)"
      ],
      "metadata": {
        "id": "7IUdAbDoduNa"
      }
    },
    {
      "cell_type": "markdown",
      "source": [
        "## 簡単な計算をしてみよう\n",
        "次はいよいよPythonの得意分野、数値計算をしてみましょう。\n",
        "\n",
        "Pythonの数値計算は数字と記号で表現します。まずは足し算・引き算・掛け算・割り算を見てみましょう。\n",
        "\n",
        "| 演算 | 記号 |\n",
        "-|-\n",
        "| 足し算 | + |\n",
        "| 引き算 | - |\n",
        "| 掛け算 | * |\n",
        "| 割り算 | / |\n",
        "\n",
        "ところで、例の中に`# 足し算`という感じでコメントが入っています。このように`#`で始まる行はプログラムでは無視されるので、ここにちょっとした説明などを書いています。"
      ],
      "metadata": {
        "id": "nVLVmpj_AUVx"
      }
    },
    {
      "cell_type": "markdown",
      "source": [
        "* $1 + 3$"
      ],
      "metadata": {
        "id": "DPxhAGZRE84I"
      }
    },
    {
      "cell_type": "code",
      "source": [
        "# 足し算\n",
        "1 + 3"
      ],
      "metadata": {
        "colab": {
          "base_uri": "https://localhost:8080/"
        },
        "id": "zS9ZfDQNBX_q",
        "outputId": "cc12bf09-2c0e-4064-a778-2cfc96f6556b"
      },
      "execution_count": 1,
      "outputs": [
        {
          "output_type": "execute_result",
          "data": {
            "text/plain": [
              "4"
            ]
          },
          "metadata": {},
          "execution_count": 1
        }
      ]
    },
    {
      "cell_type": "markdown",
      "source": [
        "* $12 - 9$"
      ],
      "metadata": {
        "id": "EVdtoQDTFE6y"
      }
    },
    {
      "cell_type": "code",
      "source": [
        "# 引き算\n",
        "12 - 9"
      ],
      "metadata": {
        "colab": {
          "base_uri": "https://localhost:8080/"
        },
        "id": "3w-qRDFnBa5E",
        "outputId": "fd37f938-7239-4681-d6c4-cec20636e425"
      },
      "execution_count": 3,
      "outputs": [
        {
          "output_type": "execute_result",
          "data": {
            "text/plain": [
              "3"
            ]
          },
          "metadata": {},
          "execution_count": 3
        }
      ]
    },
    {
      "cell_type": "markdown",
      "source": [
        "* $4 \\times 7$"
      ],
      "metadata": {
        "id": "l0rJrxltFEHp"
      }
    },
    {
      "cell_type": "code",
      "source": [
        "# 掛け算\n",
        "4 * 7"
      ],
      "metadata": {
        "colab": {
          "base_uri": "https://localhost:8080/"
        },
        "id": "T8KvQ2CGBef7",
        "outputId": "9f144948-ab70-4f9d-a3a3-81a9859fe24e"
      },
      "execution_count": 4,
      "outputs": [
        {
          "output_type": "execute_result",
          "data": {
            "text/plain": [
              "28"
            ]
          },
          "metadata": {},
          "execution_count": 4
        }
      ]
    },
    {
      "cell_type": "markdown",
      "source": [
        "* $63 \\div 9$"
      ],
      "metadata": {
        "id": "XPp3l4_PFLri"
      }
    },
    {
      "cell_type": "code",
      "source": [
        "# 割り算\n",
        "63 / 9"
      ],
      "metadata": {
        "colab": {
          "base_uri": "https://localhost:8080/"
        },
        "id": "5ETIiwgJBzRb",
        "outputId": "bad2895d-df0a-4785-9ba9-3772f986fc4c"
      },
      "execution_count": 5,
      "outputs": [
        {
          "output_type": "execute_result",
          "data": {
            "text/plain": [
              "7.0"
            ]
          },
          "metadata": {},
          "execution_count": 5
        }
      ]
    },
    {
      "cell_type": "markdown",
      "source": [
        "セルでの計算は、一番最後に実行された行の答えだけ結果として表示されます。\n",
        "よって、計算式は1つのセルに1つ書くようにしています。\n",
        "\n",
        "1つのセルの中でいくつかの計算を行い、その結果を表示したいときは、printメソッドを使います。\n",
        "printはセルの中のどこにあっても結果を出力してくれます。"
      ],
      "metadata": {
        "id": "laT6beW6B4zj"
      }
    },
    {
      "cell_type": "markdown",
      "source": [
        "* $12 + 23$\n",
        "* $5 - 13$\n",
        "* $3 \\times 9$\n",
        "* $2 \\div 5$"
      ],
      "metadata": {
        "id": "hY2I2b_NFqno"
      }
    },
    {
      "cell_type": "code",
      "source": [
        "# 足し算\n",
        "print(12 + 23)\n",
        "# 引き算\n",
        "print(5 - 13)\n",
        "# 掛け算\n",
        "print(3 * 9)\n",
        "# 割り算\n",
        "print(2 / 5)"
      ],
      "metadata": {
        "colab": {
          "base_uri": "https://localhost:8080/"
        },
        "id": "yFdAe2NRCgYS",
        "outputId": "76c12323-b531-405c-c97f-9a7d1fb218a1"
      },
      "execution_count": 6,
      "outputs": [
        {
          "output_type": "stream",
          "name": "stdout",
          "text": [
            "35\n",
            "-8\n",
            "27\n",
            "0.4\n"
          ]
        }
      ]
    },
    {
      "cell_type": "markdown",
      "source": [
        "少しプログラミングをかじっている人は最後の割り算の結果には驚かれると思います。\n",
        "\n",
        "この結果を見て分かる通り、Pythonでの整数同士の割り算の結果は小数になります。C言語などでは整数同士の割り算は整数に切り下げられ、0と表示されますよね。\n",
        "\n",
        "整数同士で割り算をしたときの商と余りを出したいときは次の記号を使います。\n",
        "\n",
        "| 演算 | 記号 |\n",
        "-|-\n",
        "| 商 | // |\n",
        "| 余り | % |"
      ],
      "metadata": {
        "id": "-jLsqYm5Cr7f"
      }
    },
    {
      "cell_type": "markdown",
      "source": [
        "* $11 \\div 3 = 3 \\quad\\text{余り} 2$"
      ],
      "metadata": {
        "id": "jl5cPttsD5DR"
      }
    },
    {
      "cell_type": "code",
      "source": [
        "# 商\n",
        "print(11 // 3)\n",
        "# 余り\n",
        "print(11 % 3)\n"
      ],
      "metadata": {
        "colab": {
          "base_uri": "https://localhost:8080/"
        },
        "id": "b0DAzsBdDrOv",
        "outputId": "82184946-afb1-4e49-c341-1368cd9f1fa0"
      },
      "execution_count": 7,
      "outputs": [
        {
          "output_type": "stream",
          "name": "stdout",
          "text": [
            "3\n",
            "2\n"
          ]
        }
      ]
    },
    {
      "cell_type": "markdown",
      "source": [
        "さらに、計算の順序をコントロールするためにかっこをつかうこともできます。かっこは`()`(丸かっこ)しか使えませんが、計算順序は大体算数と同じです。計算の優先度順に並べると次のようになります。\n",
        "\n",
        "<pre>かっこの計算 > 掛け算・割り算 > 足し算・引き算</pre>\n",
        "\n",
        "* $3 \\times (2 + 5)$"
      ],
      "metadata": {
        "id": "z7nIpGqH-otL"
      }
    },
    {
      "cell_type": "code",
      "source": [
        "# かっこの計算が先\n",
        "print(3 * (2 + 5))"
      ],
      "metadata": {
        "colab": {
          "base_uri": "https://localhost:8080/"
        },
        "id": "s9xxoAoq_KZM",
        "outputId": "d23bba10-7db9-419c-84d0-0804e8ee44e8"
      },
      "execution_count": 15,
      "outputs": [
        {
          "output_type": "stream",
          "name": "stdout",
          "text": [
            "21\n"
          ]
        }
      ]
    },
    {
      "cell_type": "markdown",
      "source": [
        "### 練習問題\n",
        "では次の計算をPythonでやってみましょう\n",
        "* $136 + 24 - 79$\n",
        "* $-12 \\times 5$\n",
        "* $23 \\div 9$の商と余り\n",
        "* $3 \\times \\frac{4 - 7}{2 \\times (1 + 9)}$"
      ],
      "metadata": {
        "id": "tNcNYP54D2qi"
      }
    },
    {
      "cell_type": "code",
      "source": [
        "# 練習問題\n"
      ],
      "metadata": {
        "id": "7rm-Pn0nGW9e"
      },
      "execution_count": null,
      "outputs": []
    },
    {
      "cell_type": "markdown",
      "source": [
        "## 文字を出力してみよう\n",
        "\n",
        "数値の計算の次は、**文字列**を扱ってみましょう。\n",
        "\n",
        "文字列というのは`\"Hello\"`や`'あいうえお'`のように、引用符`\"\"`(ダブルクオーテーション)や`''`(シングルクオーテーション)で囲った文字の列のことです。他のプログラミング言語ではこの引用符はダブルしか使えないといった区別がありますが、Pythonではダブルもシングルも同じように使えます。(ただしダブルで始まりシングルで終わる、ということはできません。) 文字列の中では全角文字も使えますので、日本語を使うこともできます。\n",
        "\n",
        "引用符がないとエラーになるので、囲い忘れや閉じ忘れのないように気を付けましょう。\n",
        "\n",
        "文字列も数値と同じように、printメソッドを使って出力することができます。セルの最後に書くと、シングルクオーテーションで囲われるという違いがあります。"
      ],
      "metadata": {
        "id": "XfzjuMBNGbFr"
      }
    },
    {
      "cell_type": "code",
      "source": [
        "# 文字列をprint\n",
        "print(\"こんにちは！\")"
      ],
      "metadata": {
        "colab": {
          "base_uri": "https://localhost:8080/"
        },
        "id": "sn0WyYnKGllI",
        "outputId": "98d09763-b43b-4553-e799-2eb4cb71e034"
      },
      "execution_count": 2,
      "outputs": [
        {
          "output_type": "stream",
          "name": "stdout",
          "text": [
            "こんにちは！\n"
          ]
        }
      ]
    },
    {
      "cell_type": "code",
      "source": [
        "# 文字列をセルの最後に\n",
        "\"Hello, World!\""
      ],
      "metadata": {
        "colab": {
          "base_uri": "https://localhost:8080/",
          "height": 36
        },
        "id": "j0mCNaYckb6v",
        "outputId": "a4836f1f-197d-48a4-c28d-38aa6786168c"
      },
      "execution_count": 4,
      "outputs": [
        {
          "output_type": "execute_result",
          "data": {
            "text/plain": [
              "'Hello, World!'"
            ],
            "application/vnd.google.colaboratory.intrinsic+json": {
              "type": "string"
            }
          },
          "metadata": {},
          "execution_count": 4
        }
      ]
    },
    {
      "cell_type": "markdown",
      "source": [
        "### 練習問題\n",
        "次の文字列をprintで出力してみましょう。\n",
        "printは最後に自動で改行してくれるので、2回printすれば2行の出力になりますよ。\n",
        "\n",
        "<pre>\n",
        "我々は宇宙人だ。\n",
        "名前はまだない。\n",
        "</pre>"
      ],
      "metadata": {
        "id": "sIJn5qrPk5NN"
      }
    },
    {
      "cell_type": "code",
      "source": [
        "# 練習問題\n"
      ],
      "metadata": {
        "id": "HyCltrMBlXED"
      },
      "execution_count": null,
      "outputs": []
    },
    {
      "cell_type": "markdown",
      "source": [
        "文字列についてはさらに色々なことができます。文字を区切ったり、特定の文字を別の文字と入れ替えたり、逆向きにすることもできます。文字列の操作については先々取り上げていきますので、今はとりあえずPythonでどんなことができるか見ていってください。"
      ],
      "metadata": {
        "id": "QbrrLxaLmRja"
      }
    },
    {
      "cell_type": "code",
      "source": [
        "# 文字を区切る\n",
        "print(\"こんにちは\"[:2], \"こんにちは\"[2:])\n",
        "print(\"|\".join(\"こんにちは\"))\n",
        "# 文字を小文字にしたり大文字にしたりする\n",
        "print(\"hello\".upper())\n",
        "print(\"APPLE\".lower())\n",
        "print(\"pyTHON\".capitalize())\n",
        "# 文字を入れ替え・消す\n",
        "print(\"たしたたりたとたたたりた\".replace(\"た\", \"\"))\n",
        "print(\"私の名前はシロサギです\".replace(\"シロサギ\", \"アオサギ\"))\n",
        "# 文字を逆向きにする\n",
        "print(\"ちうのももももももももす\"[::-1])"
      ],
      "metadata": {
        "colab": {
          "base_uri": "https://localhost:8080/"
        },
        "id": "-S-R6wC_mz3n",
        "outputId": "afd4c478-21fc-42c4-da7f-12d1efb26ade"
      },
      "execution_count": 10,
      "outputs": [
        {
          "output_type": "stream",
          "name": "stdout",
          "text": [
            "こん にちは\n",
            "こ|ん|に|ち|は\n",
            "HELLO\n",
            "apple\n",
            "Python\n",
            "しりとり\n",
            "私の名前はアオサギです\n",
            "すもももももももものうち\n"
          ]
        }
      ]
    },
    {
      "cell_type": "markdown",
      "source": [
        "## 変数を使ってみよう\n",
        "\n",
        "最後に**変数**というものを使ってみましょう。\n",
        "\n",
        "変数というのは数値や文字などのデータをなんでも入れられる箱みたいなものです。他のプログラミング言語を勉強したことのある方はここでも「えっ？なんでも？」と思われるかもしれませんが、Pythonは本当に何でも入れられます。print関数すら入れられます。なんじゃそりゃ！"
      ],
      "metadata": {
        "id": "Zg6SrJpKmIrn"
      }
    },
    {
      "cell_type": "markdown",
      "source": [
        "\n",
        "\n",
        "なぜ箱に入れるかというと、計算を行ったり文字列操作を行ったりするときに、箱に入れてプログラムを書いた方が書きやすかったり分かりやすかったりするからです。\n",
        "\n",
        "とりあえず次のセルを実行してみましょう。"
      ],
      "metadata": {
        "id": "M7lmC9sU3Wnw"
      }
    },
    {
      "cell_type": "code",
      "source": [
        "# 変数xに3を代入\n",
        "x = 3\n",
        "# y = x * x * x (xの3乗)を計算\n",
        "# 計算結果をyに代入している\n",
        "y = x * x * x\n",
        "\n",
        "print(\"y = x^3 = \")\n",
        "print(y)"
      ],
      "metadata": {
        "colab": {
          "base_uri": "https://localhost:8080/"
        },
        "id": "pF8XXszzvt_U",
        "outputId": "f550c35b-06f8-432a-f6f5-2b723c00f06d"
      },
      "execution_count": 11,
      "outputs": [
        {
          "output_type": "stream",
          "name": "stdout",
          "text": [
            "y = x^3 = \n",
            "27\n"
          ]
        }
      ]
    },
    {
      "cell_type": "markdown",
      "source": [
        "最初に行っているのは変数$x$への数値の**代入**です。代入というのは、変数という箱にデータを入れることを言います。この中身はあとからどれだけでも入れ替えることができます。\n",
        "\n",
        "その次の式`y = x * x * x`は、上で代入した変数$x$を使って$x^3$の計算を行い、その結果を新しい変数$y$に代入しています。\n",
        "\n",
        "このようにして、プログラムではどんどん変数を作って計算結果を代入していきます。このときに使われている**`=`(イコール)**は代入の記号であり、数学の方程式で使われている「等しい」を意味する記号とは少し違います。プログラムの代入は、「右の値を左の変数に入れる」という意味なのです。\n",
        "\n",
        "## 変数の値を変えてみよう\n",
        "\n",
        "今度は、今の変数$x$の値を変えてみましょう。\n",
        "\n",
        "上のセルの`x = 3`の部分を、`x = 4`に変えてもう一度実行してみましょう。コードは下のようになります。\n",
        "\n",
        "<pre>\n",
        "# 変数xに3を代入\n",
        "x = 4\n",
        "# y = x * x * x (xの3乗)を計算\n",
        "# 計算結果をyに代入している\n",
        "y = x * x * x\n",
        "\n",
        "print(\"y = x^3 = \")\n",
        "print(y)\n",
        "</pre>\n",
        "\n",
        "そうすると、$4^3$の値をコードのほんの一部を変えるだけで計算できました。このように、色々と中身を変えたい数値を入れるので変数というのです。\n",
        "\n",
        "### Pythonの変数って簡単すぎ！？\n",
        "\n",
        "さて、ここでも他の言語を勉強した人は頭を抱えていることかと思います。こんなに簡単に変数を使えて良いものか、と。型や宣言はどこへ行ったのか、と。\n",
        "\n",
        "<small>\n",
        "少し専門的な用語を使いますと、Pythonは動的型付け言語といって、どんなデータ型でも変数に代入することができ、計算などを行う瞬間にデータ型ごとに定義された処理を実行する仕組みになっています。さらに変数は宣言なしで使うことができます。といっても、いきなり計算式の中に新しい変数を登場させることはできません。やってみると「NameError: name '変数名' is not defined」というエラーが出ます。最初に何かを代入することが、宣言および初期化の代わりになっているのです。\n",
        "</small>"
      ],
      "metadata": {
        "id": "cMaDnNi5wD9g"
      }
    },
    {
      "cell_type": "markdown",
      "source": [
        "### 変数に使える文字\n",
        "\n",
        "Pythonの変数には、一般的にアルファベットと`_`(アンダースコア, アンダープレースなど)、そして先頭以外に数値を使うことができます。小文字が多いですが、大文字も使えます。例えば次のような感じです。\n",
        "\n",
        "(環境によっては全角文字の変数名も使えたりしますが、予期せぬエラーの元になるのでおすすめしません)\n",
        "\n",
        "* word\n",
        "* value1, value2\n",
        "* my_name\n",
        "* MATH_PI"
      ],
      "metadata": {
        "id": "xgWg8IkvvtT7"
      }
    },
    {
      "cell_type": "markdown",
      "source": [
        "### 練習問題\n",
        "\n",
        "次のセルは、今のままではエラーになってしまいます。これが正しく実行できるように、変数に適切な数値や文字列を代入して、下のような文章が出力できるようにしてください。\n",
        "\n",
        "ちなみに、文字列の前にfが付いているのはフォーマット文字列といって、`{}`の中に入れた変数を文字列に組み込むことができます。\n",
        "\n",
        "<pre>\n",
        "僕はビリー。\n",
        "西暦2123年の未来からやってきたんだ。\n",
        "よろしくね！\n",
        "</pre>"
      ],
      "metadata": {
        "id": "7JUn2kXB3gss"
      }
    },
    {
      "cell_type": "code",
      "source": [
        "# 練習問題\n",
        "# 変数への代入を上手く使ってコードを動くようにしよう\n",
        "# 変数name\n",
        "name = \"\"\n",
        "# 変数year\n",
        "year = 2000\n",
        "# あとひとつ変数を追加しないと...\n",
        "\n",
        "\n",
        "# ここから下は変えなくていいよ\n",
        "print(f\"僕は{name}。\")\n",
        "print(f\"西暦{year}年の未来からやってきたんだ。\")\n",
        "print(m) # m(エム)という変数なんて使ってたっけ？"
      ],
      "metadata": {
        "id": "rz1Lj7P54BG5"
      },
      "execution_count": null,
      "outputs": []
    },
    {
      "cell_type": "markdown",
      "source": [
        "## 次回は\n",
        "次のノートブックでは、制御構文の基本をやっていきます。ここからよりプログラミングっぽくなっていきます。\n",
        "プログラミング自体初めて、という人向けにできる限り分かりやすく説明することを目指しています。\n",
        "\n",
        "Colabの使い方をもっと学びたい人は、参考サイトで紹介する公式のノートブックなども見てみてください。"
      ],
      "metadata": {
        "id": "fcPtSEAawaAH"
      }
    },
    {
      "cell_type": "markdown",
      "source": [
        "## 参考サイト\n",
        "- Python Japan｜ゼロからのPython入門講座\n",
        "  - [Python初体験](https://www.python.jp/train/experience/index.html)\n",
        "  - [エラーになったときは](https://www.python.jp/train/experience/on-error.html)\n",
        "  - [ゼロからのPython入門講座](https://www.python.jp/train/index.html)\n",
        "- [Google | Colaboratoryへようこそ](https://colab.research.google.com/?hl=ja)\n",
        "\n",
        "[前へ][prev]\n",
        "[次へ](https://colab.research.google.com/github/ao9-prog-team/ColabHandbook/blob/main/PythonTutorial/PythonTutorial2.ipynb)\n",
        "\n",
        "[prev]: https://colab.research.google.com/github/ao9-prog-team/ColabHandbook/blob/main/NotebookTutorial/NotebookTutorial1.ipynb"
      ],
      "metadata": {
        "id": "kFbYsifxKMW6"
      }
    }
  ]
}